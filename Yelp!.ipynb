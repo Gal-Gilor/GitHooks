{
 "cells": [
  {
   "cell_type": "code",
   "execution_count": 22,
   "metadata": {},
   "outputs": [],
   "source": [
    "import numpy as np\n",
    "import pandas as pd\n",
    "import requests\n",
    "import matplotlib.pyplot as plt\n",
    "import time\n",
    "import joblib as jb\n",
    "import config\n",
    "from collections import OrderedDict\n",
    "\n",
    "%matplotlib inline"
   ]
  },
  {
   "cell_type": "code",
   "execution_count": 7,
   "metadata": {},
   "outputs": [],
   "source": [
    "# yelp credentials\n",
    "client_id = config.client_id\n",
    "api_key = config.api_key"
   ]
  },
  {
   "cell_type": "markdown",
   "metadata": {},
   "source": [
    "### Example API Call"
   ]
  },
  {
   "cell_type": "raw",
   "metadata": {},
   "source": [
    "url = 'https://api.yelp.com/v3/businesses/search'\n",
    "headers = {'Authorization': f'Bearer {api_key}'}\n",
    "params = {\n",
    "    'term': 'restaurants',\n",
    "    'location': 'Brooklyn',\n",
    "    'limit': '50',\n",
    "}\n",
    "\n",
    "response = requests.get(url, headers=headers, params=params)\n",
    "\n",
    "if response.status_code == 200:\n",
    "    businesses = response.json()['businesses']\n",
    "    total = response.json()['total']\n",
    "    \n",
    "response.status_code"
   ]
  },
  {
   "cell_type": "code",
   "execution_count": 77,
   "metadata": {},
   "outputs": [],
   "source": [
    "def get_businesses(location, term, api_key, sleep=False):\n",
    "    '''\n",
    "    \n",
    "    '''\n",
    "    headers = {'Authorization': f'Bearer {api_key}'}\n",
    "    url = 'https://api.yelp.com/v3/businesses/search'\n",
    "\n",
    "    data = []\n",
    "    for offset in range(0, 1000, 50):\n",
    "        params = {\n",
    "            'limit': 50, \n",
    "            'location': location.replace(' ', '+'),\n",
    "            'term': term.replace(' ', '+'),\n",
    "            'offset': offset\n",
    "        }\n",
    "\n",
    "        response = requests.get(url, headers=headers, params=params)\n",
    "        \n",
    "        assert type(sleep) == int or type(sleep) == float, \"Enter sleep time in seconds\"\n",
    "        if sleep:\n",
    "            time.sleep(sleep)\n",
    "        \n",
    "        if response.status_code == 200:\n",
    "            data += response.json()['businesses']\n",
    "        \n",
    "        elif response.status_code == 400:\n",
    "            print('400 Bad Request')\n",
    "            break\n",
    "\n",
    "    return data "
   ]
  },
  {
   "cell_type": "code",
   "execution_count": 79,
   "metadata": {},
   "outputs": [
    {
     "name": "stdout",
     "output_type": "stream",
     "text": [
      "Wall time: 5min 44s\n"
     ]
    }
   ],
   "source": [
    "%%time \n",
    "\n",
    "businesses = []\n",
    "zip_codes = ['07302', '07303', '07304', '07305', '07306', '07307',\n",
    "             '07308', '07310', '07311', '07395', '07303', '07399']\n",
    "\n",
    "\n",
    "for zip_cd in zip_codes:\n",
    "    sleep = np.random.uniform(0.5, 1.5)\n",
    "    businesses += get_businesses(zip_cd, term, api_key, sleep)"
   ]
  },
  {
   "cell_type": "code",
   "execution_count": 2,
   "metadata": {},
   "outputs": [],
   "source": [
    "n_search = 2200\n",
    "n_zips = 12"
   ]
  },
  {
   "cell_type": "code",
   "execution_count": 3,
   "metadata": {},
   "outputs": [
    {
     "name": "stdout",
     "output_type": "stream",
     "text": [
      "Searching through 12 zip codes yielded 2200 results\n"
     ]
    }
   ],
   "source": [
    "n_search = len(businesses)\n",
    "n_zips = len(zip_codes)\n",
    "print(f'Searching through {n_zips} zip codes yielded {n_search} results')"
   ]
  },
  {
   "cell_type": "code",
   "execution_count": 87,
   "metadata": {},
   "outputs": [],
   "source": [
    "unique_businesses = [i for n, i in enumerate(businesses) if i not in businesses[n + 1:]]"
   ]
  },
  {
   "cell_type": "code",
   "execution_count": 6,
   "metadata": {},
   "outputs": [
    {
     "name": "stdout",
     "output_type": "stream",
     "text": [
      "Out of 2200 search results, There are 1855 unique entries results\n"
     ]
    }
   ],
   "source": [
    "n_unique = len(unique_businesses)\n",
    "print(f'Out of {n_search} search results, There are {n_unique} unique entries results')"
   ]
  },
  {
   "cell_type": "markdown",
   "metadata": {},
   "source": [
    "### Business Search Example Result"
   ]
  },
  {
   "cell_type": "code",
   "execution_count": 66,
   "metadata": {},
   "outputs": [
    {
     "data": {
      "text/plain": [
       "{'id': 'r4SazXX-ISikdRYWbH-HAg',\n",
       " 'alias': 'hudson-and-co-jersey-city',\n",
       " 'name': 'Hudson & Co',\n",
       " 'image_url': 'https://s3-media2.fl.yelpcdn.com/bphoto/y9xdVdAw-hn22JHcIT0IQQ/o.jpg',\n",
       " 'is_closed': False,\n",
       " 'url': 'https://www.yelp.com/biz/hudson-and-co-jersey-city?adjust_creative=oXRz7HWebFp6YdQ0YT3PMQ&utm_campaign=yelp_api_v3&utm_medium=api_v3_business_search&utm_source=oXRz7HWebFp6YdQ0YT3PMQ',\n",
       " 'review_count': 521,\n",
       " 'categories': [{'alias': 'gastropubs', 'title': 'Gastropubs'},\n",
       "  {'alias': 'newamerican', 'title': 'American (New)'},\n",
       "  {'alias': 'cocktailbars', 'title': 'Cocktail Bars'}],\n",
       " 'rating': 4.0,\n",
       " 'coordinates': {'latitude': 40.720988, 'longitude': -74.031573},\n",
       " 'transactions': ['delivery', 'pickup'],\n",
       " 'price': '$$$',\n",
       " 'location': {'address1': '3 2nd St',\n",
       "  'address2': '',\n",
       "  'address3': None,\n",
       "  'city': 'Jersey City',\n",
       "  'zip_code': '07302',\n",
       "  'country': 'US',\n",
       "  'state': 'NJ',\n",
       "  'display_address': ['3 2nd St', 'Jersey City, NJ 07302']},\n",
       " 'phone': '+12016857330',\n",
       " 'display_phone': '(201) 685-7330',\n",
       " 'distance': 1459.853689462693}"
      ]
     },
     "execution_count": 66,
     "metadata": {},
     "output_type": "execute_result"
    }
   ],
   "source": [
    "business_search_result = unique_businesses[0]\n",
    "business_search_result"
   ]
  },
  {
   "cell_type": "markdown",
   "metadata": {},
   "source": [
    "### Business Details Search Example "
   ]
  },
  {
   "cell_type": "code",
   "execution_count": 3,
   "metadata": {},
   "outputs": [],
   "source": [
    "yelp_id = 'r4SazXX-ISikdRYWbH-HAg'\n",
    "business_alias = 'hudson-and-co-jersey-city'\n",
    "business_name = 'Hudson & Co'"
   ]
  },
  {
   "cell_type": "code",
   "execution_count": 90,
   "metadata": {},
   "outputs": [],
   "source": [
    "def get_business_details(yelp_id, api_key):\n",
    "    '''\n",
    "    \n",
    "    '''\n",
    "    headers = {'Authorization': f'Bearer {api_key}'}\n",
    "    url = f'https://api.yelp.com/v3/businesses/{yelp_id}'\n",
    "    response = requests.get(url, headers=headers)\n",
    "    \n",
    "    if response.status_code == 200:   \n",
    "        return response.json()\n",
    "    else:\n",
    "        return response.status_code\n",
    "\n",
    "# save business details and unpack the address later, and categories later\n",
    "business_details = get_business_details(yelp_id, api_key)\n",
    "address_information = business_details['location']\n",
    "\n",
    "categories = business_details['categories']\n",
    "categories = [category['alias'] for category in categories]\n",
    "category_string = ';'.join(categories)\n",
    "\n",
    "# update categories\n",
    "business_details['categories'] = category_string"
   ]
  },
  {
   "cell_type": "code",
   "execution_count": 91,
   "metadata": {},
   "outputs": [
    {
     "data": {
      "text/plain": [
       "{'id': 'r4SazXX-ISikdRYWbH-HAg',\n",
       " 'alias': 'hudson-and-co-jersey-city',\n",
       " 'name': 'Hudson & Co',\n",
       " 'image_url': 'https://s3-media2.fl.yelpcdn.com/bphoto/y9xdVdAw-hn22JHcIT0IQQ/o.jpg',\n",
       " 'is_claimed': True,\n",
       " 'is_closed': False,\n",
       " 'url': 'https://www.yelp.com/biz/hudson-and-co-jersey-city?adjust_creative=oXRz7HWebFp6YdQ0YT3PMQ&utm_campaign=yelp_api_v3&utm_medium=api_v3_business_lookup&utm_source=oXRz7HWebFp6YdQ0YT3PMQ',\n",
       " 'phone': '+12016857330',\n",
       " 'display_phone': '(201) 685-7330',\n",
       " 'review_count': 530,\n",
       " 'categories': 'gastropubs;newamerican;cocktailbars',\n",
       " 'rating': 4.0,\n",
       " 'location': {'address1': '3 2nd St',\n",
       "  'address2': '',\n",
       "  'address3': None,\n",
       "  'city': 'Jersey City',\n",
       "  'zip_code': '07302',\n",
       "  'country': 'US',\n",
       "  'state': 'NJ',\n",
       "  'display_address': ['3 2nd St', 'Jersey City, NJ 07302'],\n",
       "  'cross_streets': ''},\n",
       " 'coordinates': {'latitude': 40.720988, 'longitude': -74.031573},\n",
       " 'photos': ['https://s3-media2.fl.yelpcdn.com/bphoto/y9xdVdAw-hn22JHcIT0IQQ/o.jpg',\n",
       "  'https://s3-media3.fl.yelpcdn.com/bphoto/MrXy3Y3KssIlG9VPfx2mQw/o.jpg',\n",
       "  'https://s3-media4.fl.yelpcdn.com/bphoto/3QbwBO06Vdl49T2uZuH-XA/o.jpg'],\n",
       " 'price': '$$$',\n",
       " 'hours': [{'open': [{'is_overnight': False,\n",
       "     'start': '1200',\n",
       "     'end': '0000',\n",
       "     'day': 0},\n",
       "    {'is_overnight': False, 'start': '1200', 'end': '0000', 'day': 1},\n",
       "    {'is_overnight': False, 'start': '1200', 'end': '0000', 'day': 2},\n",
       "    {'is_overnight': True, 'start': '1200', 'end': '0100', 'day': 3},\n",
       "    {'is_overnight': True, 'start': '1200', 'end': '0200', 'day': 4},\n",
       "    {'is_overnight': True, 'start': '1200', 'end': '0200', 'day': 5},\n",
       "    {'is_overnight': False, 'start': '1200', 'end': '0000', 'day': 6}],\n",
       "   'hours_type': 'REGULAR',\n",
       "   'is_open_now': True}],\n",
       " 'transactions': ['pickup', 'delivery']}"
      ]
     },
     "execution_count": 91,
     "metadata": {},
     "output_type": "execute_result"
    }
   ],
   "source": [
    "business_details"
   ]
  },
  {
   "cell_type": "markdown",
   "metadata": {},
   "source": [
    "### Exammple Business Reviews Search"
   ]
  },
  {
   "cell_type": "code",
   "execution_count": 97,
   "metadata": {},
   "outputs": [],
   "source": [
    "def get_business_reviews(yelp_id, api_key, sort_by='data'):\n",
    "    '''\n",
    "    \n",
    "    '''\n",
    "    headers = {'Authorization': f'Bearer {api_key}'}\n",
    "    url = f'https://api.yelp.com/v3/businesses/{yelp_id}/reviews'\n",
    "    params = {'sort_by': sort_by}\n",
    "    response = requests.get(url, headers=headers, params=params)\n",
    "    \n",
    "    if response.status_code == 200:   \n",
    "        return response.json()['reviews']\n",
    "    else:\n",
    "        return response.status_code\n",
    "    \n",
    "reviews = get_business_reviews(yelp_id, api_key)    "
   ]
  },
  {
   "cell_type": "code",
   "execution_count": 98,
   "metadata": {},
   "outputs": [],
   "source": [
    "# Sort nested dictionary by key\n",
    "order_reviews = sorted(reviews, key=lambda d: d['time_created'], reverse=True) \n",
    "most_recent_review = order_reviews[0]\n",
    "\n",
    "# remove the posting user information\n",
    "del most_recent_review['user']"
   ]
  },
  {
   "cell_type": "code",
   "execution_count": 100,
   "metadata": {},
   "outputs": [],
   "source": [
    "# merge the data together\n",
    "# if overlapping keys, use the business_details keys \n",
    "business_details_all = {**most_recent_review, **business_search_result, **address_information, **business_details}\n",
    "\n",
    "del business_details_all['location']\n",
    "del business_details_all['image_url'] \n",
    "del business_details_all['coordinates']\n",
    "del business_details_all['distance']\n",
    "\n",
    "# convert dictionary to pandas dataframe\n",
    "df = pd.DataFrame.from_dict(business_details_all, orient='index').T\n",
    "\n",
    "# save dataframe as a csv\n",
    "df.to_csv('yelp_merged_results.csv', index=False)"
   ]
  }
 ],
 "metadata": {
  "kernelspec": {
   "display_name": "Python 3 (ipykernel)",
   "language": "python",
   "name": "python3"
  },
  "language_info": {
   "codemirror_mode": {
    "name": "ipython",
    "version": 3
   },
   "file_extension": ".py",
   "mimetype": "text/x-python",
   "name": "python",
   "nbconvert_exporter": "python",
   "pygments_lexer": "ipython3",
   "version": "3.9.7"
  }
 },
 "nbformat": 4,
 "nbformat_minor": 2
}
